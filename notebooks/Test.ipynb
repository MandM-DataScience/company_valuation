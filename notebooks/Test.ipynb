{
 "cells": [
  {
   "cell_type": "markdown",
   "id": "0edb8858",
   "metadata": {},
   "source": [
    "# USA Company Valuation with ChatGPT\n",
    "\n",
    "## Goal\n",
    "We want to be able to evaluate USA companies for investing purposes.\n",
    "\n",
    "The goal is to create a tool that will help us retrieve all necessary measures to be used in the Valuation model and give us a summary of the most important information that an investor should be aware of.\n",
    "\n",
    "Our Valuation model is built upon the principles teached by Prof. Damodaran in his Valuation Course, available for free on YouTube.\n",
    "https://www.youtube.com/watch?v=LYGYvN5LUbA&list=PLUkh9m2BorqnhWfkEP2rRdhgpYKLS-NOJ\n",
    "\n",
    "We extrapolate data from the U.S. SECURITIES AND EXCHANGE COMMISSION (SEC) website. The SEC's Electronic Data Gathering, Analysis and Retrieval (EDGAR) database provides free public access to USA corporate information, allowing us to quickly research a company's financial and operations information.\n",
    "https://www.sec.gov/edgar/search-and-access\n",
    "\n",
    "We also gather data from Prof. Damodaran website https://pages.stern.nyu.edu/~adamodar/.\n",
    "\n",
    "## <a class=\"anchor\" id=\"toc\">Table of Contents:</a>\n",
    "This project is structured in the following way:\n",
    "1. [Data Collection](#1-bullet)\n",
    "2. [Qualitative Analysis](#2-bullet) (Leverage OpenAI models to make sense of reports information)\n",
    "3. [Quantitative Analysis](#3-bullet) (Valuation model based on financial data)\n",
    "4. [Visualization](#4-bullet) (Company valuation Visualizations in Tableau and PowerBI)\n",
    "5. [Conclusions and Next steps](#5-bullet)"
   ]
  }
 ],
 "metadata": {
  "kernelspec": {
   "display_name": "company_valuation",
   "language": "python",
   "name": "company_valuation"
  },
  "language_info": {
   "codemirror_mode": {
    "name": "ipython",
    "version": 3
   },
   "file_extension": ".py",
   "mimetype": "text/x-python",
   "name": "python",
   "nbconvert_exporter": "python",
   "pygments_lexer": "ipython3",
   "version": "3.9.13"
  }
 },
 "nbformat": 4,
 "nbformat_minor": 5
}
